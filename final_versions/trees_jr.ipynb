{
 "cells": [
  {
   "cell_type": "markdown",
   "metadata": {},
   "source": [
    "# Midterm Project"
   ]
  },
  {
   "cell_type": "markdown",
   "metadata": {},
   "source": [
    "## NYC Housing Survey"
   ]
  },
  {
   "cell_type": "code",
   "execution_count": null,
   "metadata": {},
   "outputs": [],
   "source": []
  },
  {
   "cell_type": "code",
   "execution_count": null,
   "metadata": {},
   "outputs": [],
   "source": []
  },
  {
   "cell_type": "code",
   "execution_count": null,
   "metadata": {},
   "outputs": [],
   "source": []
  },
  {
   "cell_type": "code",
   "execution_count": null,
   "metadata": {},
   "outputs": [],
   "source": []
  },
  {
   "cell_type": "code",
   "execution_count": null,
   "metadata": {},
   "outputs": [],
   "source": []
  },
  {
   "cell_type": "code",
   "execution_count": null,
   "metadata": {},
   "outputs": [],
   "source": []
  },
  {
   "cell_type": "markdown",
   "metadata": {},
   "source": [
    "## Tree Clustering"
   ]
  },
  {
   "cell_type": "markdown",
   "metadata": {},
   "source": [
    "### Tree Clustering"
   ]
  },
  {
   "cell_type": "markdown",
   "metadata": {},
   "source": [
    "#### Import Data, convert coordinates"
   ]
  },
  {
   "cell_type": "code",
   "execution_count": 11,
   "metadata": {},
   "outputs": [
    {
     "data": {
      "text/plain": [
       "array(['London planetree', 'honeylocust', 'Callery pear', 'pin oak',\n",
       "       'Norway maple', nan, 'littleleaf linden', 'cherry',\n",
       "       'Japanese zelkova', 'ginkgo', 'Sophora', 'red maple', 'green ash',\n",
       "       'American linden', 'silver maple', 'sweetgum', 'northern red oak',\n",
       "       'silver linden', 'American elm', 'maple'], dtype=object)"
      ]
     },
     "execution_count": 11,
     "metadata": {},
     "output_type": "execute_result"
    }
   ],
   "source": [
    "import pandas as pd\n",
    "import geopandas as gpd\n",
    "\n",
    "# https://cityofnewyork.github.io/opendatatsm/citystandards.html states all geospatial data is in EPSG:3857.\n",
    "# \n",
    "\n",
    "dir = 'data_prep\\\\'\n",
    "df = pd.read_csv(dir+'2015trees.csv', sep=',')\n",
    "df_trees = df\n",
    "\n",
    "gdf = gpd.GeoDataFrame(\n",
    "    df, geometry=gpd.points_from_xy(df[\"longitude\"], df[\"Latitude\"], crs=\"EPSG:3857\"))\n",
    "\n",
    "df[\"spc_common\"].value_counts(dropna=False).head(20).index.values"
   ]
  },
  {
   "cell_type": "code",
   "execution_count": 12,
   "metadata": {},
   "outputs": [
    {
     "data": {
      "text/html": [
       "<div>\n",
       "<style scoped>\n",
       "    .dataframe tbody tr th:only-of-type {\n",
       "        vertical-align: middle;\n",
       "    }\n",
       "\n",
       "    .dataframe tbody tr th {\n",
       "        vertical-align: top;\n",
       "    }\n",
       "\n",
       "    .dataframe thead th {\n",
       "        text-align: right;\n",
       "    }\n",
       "</style>\n",
       "<table border=\"1\" class=\"dataframe\">\n",
       "  <thead>\n",
       "    <tr style=\"text-align: right;\">\n",
       "      <th></th>\n",
       "      <th>longitude</th>\n",
       "      <th>Latitude</th>\n",
       "      <th>geometry</th>\n",
       "    </tr>\n",
       "  </thead>\n",
       "  <tbody>\n",
       "    <tr>\n",
       "      <th>326</th>\n",
       "      <td>-73.893711</td>\n",
       "      <td>40.847658</td>\n",
       "      <td>POINT (-73.894 40.848)</td>\n",
       "    </tr>\n",
       "    <tr>\n",
       "      <th>328</th>\n",
       "      <td>-73.928171</td>\n",
       "      <td>40.832306</td>\n",
       "      <td>POINT (-73.928 40.832)</td>\n",
       "    </tr>\n",
       "    <tr>\n",
       "      <th>330</th>\n",
       "      <td>-73.904082</td>\n",
       "      <td>40.708712</td>\n",
       "      <td>POINT (-73.904 40.709)</td>\n",
       "    </tr>\n",
       "    <tr>\n",
       "      <th>331</th>\n",
       "      <td>-73.881538</td>\n",
       "      <td>40.875677</td>\n",
       "      <td>POINT (-73.882 40.876)</td>\n",
       "    </tr>\n",
       "    <tr>\n",
       "      <th>332</th>\n",
       "      <td>-73.978833</td>\n",
       "      <td>40.674917</td>\n",
       "      <td>POINT (-73.979 40.675)</td>\n",
       "    </tr>\n",
       "    <tr>\n",
       "      <th>...</th>\n",
       "      <td>...</td>\n",
       "      <td>...</td>\n",
       "      <td>...</td>\n",
       "    </tr>\n",
       "    <tr>\n",
       "      <th>680252</th>\n",
       "      <td>-73.979225</td>\n",
       "      <td>40.675069</td>\n",
       "      <td>POINT (-73.979 40.675)</td>\n",
       "    </tr>\n",
       "    <tr>\n",
       "      <th>680253</th>\n",
       "      <td>-73.995278</td>\n",
       "      <td>40.687196</td>\n",
       "      <td>POINT (-73.995 40.687)</td>\n",
       "    </tr>\n",
       "    <tr>\n",
       "      <th>680254</th>\n",
       "      <td>-73.887025</td>\n",
       "      <td>40.850751</td>\n",
       "      <td>POINT (-73.887 40.851)</td>\n",
       "    </tr>\n",
       "    <tr>\n",
       "      <th>680255</th>\n",
       "      <td>-73.740067</td>\n",
       "      <td>40.601315</td>\n",
       "      <td>POINT (-73.740 40.601)</td>\n",
       "    </tr>\n",
       "    <tr>\n",
       "      <th>680416</th>\n",
       "      <td>-73.908751</td>\n",
       "      <td>40.780211</td>\n",
       "      <td>POINT (-73.909 40.780)</td>\n",
       "    </tr>\n",
       "  </tbody>\n",
       "</table>\n",
       "<p>34189 rows × 3 columns</p>\n",
       "</div>"
      ],
      "text/plain": [
       "        longitude   Latitude                geometry\n",
       "326    -73.893711  40.847658  POINT (-73.894 40.848)\n",
       "328    -73.928171  40.832306  POINT (-73.928 40.832)\n",
       "330    -73.904082  40.708712  POINT (-73.904 40.709)\n",
       "331    -73.881538  40.875677  POINT (-73.882 40.876)\n",
       "332    -73.978833  40.674917  POINT (-73.979 40.675)\n",
       "...           ...        ...                     ...\n",
       "680252 -73.979225  40.675069  POINT (-73.979 40.675)\n",
       "680253 -73.995278  40.687196  POINT (-73.995 40.687)\n",
       "680254 -73.887025  40.850751  POINT (-73.887 40.851)\n",
       "680255 -73.740067  40.601315  POINT (-73.740 40.601)\n",
       "680416 -73.908751  40.780211  POINT (-73.909 40.780)\n",
       "\n",
       "[34189 rows x 3 columns]"
      ]
     },
     "execution_count": 12,
     "metadata": {},
     "output_type": "execute_result"
    }
   ],
   "source": [
    "gdf[[\"longitude\", \"Latitude\", \"geometry\"]].loc[gdf[\"spc_common\"] == \"Norway maple\"]"
   ]
  },
  {
   "cell_type": "code",
   "execution_count": 13,
   "metadata": {},
   "outputs": [
    {
     "data": {
      "text/plain": [
       "780.9194543794008"
      ]
     },
     "execution_count": 13,
     "metadata": {},
     "output_type": "execute_result"
    }
   ],
   "source": [
    "nyc = gpd.GeoDataFrame.from_file(\"./geo_data/old_PUMA-_or_Subborough.geojson\")\n",
    "nyc = nyc.to_crs({'proj': 'cea'})\n",
    "nyc_area = nyc.area.sum()/10**6\n",
    "nyc_area  # https://www.google.com/search?q=nyc+area agrees to publized area approx."
   ]
  },
  {
   "cell_type": "markdown",
   "metadata": {},
   "source": [
    "#### DBSCAN Clustering for trees"
   ]
  },
  {
   "cell_type": "code",
   "execution_count": 14,
   "metadata": {},
   "outputs": [],
   "source": [
    "# https://geoffboeing.com/2014/08/clustering-to-reduce-spatial-data-set-size/\n",
    "\n",
    "from sklearn.cluster import DBSCAN\n",
    "from sklearn.cluster import OPTICS\n",
    "\n",
    "from __future__ import annotations\n",
    "\n",
    "import plotly.express as px\n",
    "import matplotlib.pyplot as plt\n",
    "import numpy as np\n",
    "\n",
    "\n",
    "def cluster_DBSCAN(\n",
    "    radius_km: float,\n",
    "    min_samples_pct: float,\n",
    "    plot: bool,\n",
    "    species: str | None = None,\n",
    ") -> pd.DataFrame:\n",
    "    trees_df = gdf.loc[:, [\"longitude\", \"Latitude\", \"geometry\"]]\n",
    "\n",
    "    if species:\n",
    "        trees_df = trees_df.loc[gdf[\"spc_common\"] == species]\n",
    "\n",
    "    # All distance calculations are done in radians because a degree represents a different physical distance depending on where on earth you are.\n",
    "    coords = np.radians(trees_df[[\"longitude\", \"Latitude\"]].values)\n",
    "    kms_per_radian = 6371.0088  # physical constant\n",
    "    epsilon = radius_km / kms_per_radian\n",
    "    min_samples = int(len(trees_df) * min_samples_pct)\n",
    "\n",
    "    cluster = DBSCAN(\n",
    "        eps=epsilon,\n",
    "        metric=\"haversine\",\n",
    "        min_samples=min_samples,\n",
    "        n_jobs=-1,\n",
    "    ).fit(coords)\n",
    "\n",
    "    cluster_labels = cluster.labels_\n",
    "    print(f\"min_samples: {min_samples}\")\n",
    "    print(f\"clusters: {len(set(cluster_labels))}\")\n",
    "    print(f\"trees: {len(cluster_labels)}\")\n",
    "\n",
    "    trees_df[\"cluster\"] = cluster_labels\n",
    "\n",
    "    if plot:\n",
    "        fig, ax = plt.subplots(1, figsize=(20, 15))\n",
    "        trees_df.plot(\n",
    "            categorical=True,\n",
    "            legend=True,\n",
    "            column=\"cluster\",\n",
    "            ax=ax,\n",
    "            markersize=0.1,\n",
    "            alpha=0.8,\n",
    "            cmap=\"turbo\",\n",
    "        )\n",
    "        ax.axis(\"off\")\n",
    "        ax.set_title(f\"{species} clusters\", fontsize=20)\n",
    "        plt.show()\n",
    "    \n",
    "    return trees_df\n",
    "\n",
    "# function for OPTICS clustering but was not used.\n",
    "def cluster_OPTICS(species: str, plot: bool, min_samples: float):\n",
    "    trees_df = gdf[[\"longitude\", \"Latitude\", \"geometry\"]].loc[\n",
    "        gdf[\"spc_common\"] == species\n",
    "    ]\n",
    "    coords = trees_df[[\"longitude\", \"Latitude\"]].values\n",
    "    cluster = OPTICS(\n",
    "        metric=\"haversine\",\n",
    "        min_cluster_size=min_samples,\n",
    "        n_jobs=-1,\n",
    "    ).fit(np.radians(coords))\n",
    "    cluster_labels = cluster.labels_\n",
    "    trees_df[\"cluster\"] = cluster_labels\n",
    "\n",
    "    print(pd.Series(cluster_labels).value_counts())\n",
    "    print(len(set(cluster_labels)))\n",
    "    print(len(cluster_labels))\n",
    "\n",
    "    if plot:\n",
    "        fig, ax = plt.subplots(1, figsize=(20, 15))\n",
    "        trees_df.plot(\n",
    "            categorical=True,\n",
    "            legend=True,\n",
    "            column=\"cluster\",\n",
    "            ax=ax,\n",
    "            markersize=0.1,\n",
    "            alpha=0.8,\n",
    "            cmap=\"turbo\",\n",
    "        )\n",
    "        ax.axis(\"off\")\n",
    "        ax.set_title(f\"{species} clusters\", fontsize=20)\n",
    "        plt.show()"
   ]
  },
  {
   "cell_type": "markdown",
   "metadata": {},
   "source": [
    "#### Display total clusters and trees in each"
   ]
  },
  {
   "cell_type": "code",
   "execution_count": 15,
   "metadata": {},
   "outputs": [],
   "source": [
    "treeclusters = pd.DataFrame()"
   ]
  },
  {
   "cell_type": "code",
   "execution_count": 16,
   "metadata": {},
   "outputs": [
    {
     "name": "stdout",
     "output_type": "stream",
     "text": [
      "min_samples: 870\n",
      "clusters: 9\n",
      "trees: 87014\n",
      "min_samples: 642\n",
      "clusters: 4\n",
      "trees: 64264\n",
      "min_samples: 589\n",
      "clusters: 5\n",
      "trees: 58931\n",
      "min_samples: 531\n",
      "clusters: 4\n",
      "trees: 53185\n",
      "min_samples: 341\n",
      "clusters: 10\n",
      "trees: 34189\n",
      "min_samples: 297\n",
      "clusters: 6\n",
      "trees: 29742\n",
      "min_samples: 292\n",
      "clusters: 5\n",
      "trees: 29279\n",
      "min_samples: 292\n",
      "clusters: 5\n",
      "trees: 29258\n",
      "min_samples: 210\n",
      "clusters: 6\n",
      "trees: 21024\n",
      "min_samples: 193\n",
      "clusters: 10\n",
      "trees: 19338\n",
      "min_samples: 172\n",
      "clusters: 7\n",
      "trees: 17246\n",
      "min_samples: 162\n",
      "clusters: 11\n",
      "trees: 16251\n",
      "min_samples: 135\n",
      "clusters: 8\n",
      "trees: 13530\n",
      "min_samples: 122\n",
      "clusters: 7\n",
      "trees: 12277\n",
      "min_samples: 106\n",
      "clusters: 10\n",
      "trees: 10657\n",
      "min_samples: 84\n",
      "clusters: 13\n",
      "trees: 8400\n",
      "min_samples: 79\n",
      "clusters: 9\n",
      "trees: 7995\n",
      "min_samples: 79\n",
      "clusters: 11\n",
      "trees: 7975\n",
      "min_samples: 70\n",
      "clusters: 13\n",
      "trees: 7080\n",
      "min_samples: 68\n",
      "clusters: 12\n",
      "trees: 6879\n",
      "        longitude   Latitude                geometry  cluster\n",
      "9      -73.969744  40.586357  POINT (-73.970 40.586)        0\n",
      "10     -73.911171  40.782428  POINT (-73.911 40.782)       -1\n",
      "11     -73.912020  40.781735  POINT (-73.912 40.782)       -1\n",
      "12     -74.162670  40.557103  POINT (-74.163 40.557)       -1\n",
      "13     -73.968211  40.694733  POINT (-73.968 40.695)       -1\n",
      "...           ...        ...                     ...      ...\n",
      "682963 -73.945493  40.581213  POINT (-73.945 40.581)       -1\n",
      "682966 -73.840442  40.781848  POINT (-73.840 40.782)       -1\n",
      "682967 -73.840415  40.782341  POINT (-73.840 40.782)       -1\n",
      "683729 -73.806135  40.740483  POINT (-73.806 40.740)       -1\n",
      "683730 -73.964688  40.612160  POINT (-73.965 40.612)       -1\n",
      "\n",
      "[534514 rows x 4 columns]\n"
     ]
    }
   ],
   "source": [
    "for col in df[\"spc_common\"].value_counts().head(20).index.values:\n",
    "    clusterlabels = cluster_DBSCAN(\n",
    "        species=col, radius_km=0.5, min_samples_pct=0.01, plot=False\n",
    "    )  # For reference a Manhattan city block is approx 80m x 274m.\n",
    "    treeclusters = pd.concat([treeclusters, clusterlabels])\n",
    "\n",
    "print(treeclusters)"
   ]
  },
  {
   "cell_type": "markdown",
   "metadata": {},
   "source": [
    "#### Merging clusters with source data"
   ]
  },
  {
   "cell_type": "code",
   "execution_count": 21,
   "metadata": {},
   "outputs": [],
   "source": [
    "df_cluster = pd.merge(df_trees, treeclusters, left_index=True, right_index=True).dropna()"
   ]
  },
  {
   "cell_type": "markdown",
   "metadata": {},
   "source": [
    "#### Merging GeoJSON Data with clustered set"
   ]
  },
  {
   "cell_type": "code",
   "execution_count": 29,
   "metadata": {},
   "outputs": [],
   "source": [
    "from shapely import wkt\n",
    "\n",
    "geojson = gpd.read_file('./geo_data/old_PUMA-_or_Subborough.geojson')\n",
    "\n",
    "df_new = df_cluster.rename(columns={'the_geom':'geometry'})\n",
    "coords = pd.DataFrame(df_new['geometry'])\n",
    "\n",
    "trees_series = coords['geometry'].apply(wkt.loads)\n",
    "trees_series_gdf = gpd.GeoDataFrame(trees_series, crs=4326)\n",
    "\n",
    "new_df = trees_series_gdf.sjoin(geojson, how='left')\n",
    "df_merged = pd.merge(new_df, df_cluster, how='left', left_index=True, right_index=True)"
   ]
  },
  {
   "cell_type": "markdown",
   "metadata": {},
   "source": [
    "#### Creation of final dataset"
   ]
  },
  {
   "cell_type": "code",
   "execution_count": 33,
   "metadata": {},
   "outputs": [],
   "source": [
    "df_trees_final = df_merged[['spc_common', 'id', 'tree_dbh', 'cluster', 'Latitude_x', 'longitude_x']]"
   ]
  },
  {
   "cell_type": "code",
   "execution_count": 34,
   "metadata": {},
   "outputs": [
    {
     "data": {
      "text/html": [
       "<div>\n",
       "<style scoped>\n",
       "    .dataframe tbody tr th:only-of-type {\n",
       "        vertical-align: middle;\n",
       "    }\n",
       "\n",
       "    .dataframe tbody tr th {\n",
       "        vertical-align: top;\n",
       "    }\n",
       "\n",
       "    .dataframe thead th {\n",
       "        text-align: right;\n",
       "    }\n",
       "</style>\n",
       "<table border=\"1\" class=\"dataframe\">\n",
       "  <thead>\n",
       "    <tr style=\"text-align: right;\">\n",
       "      <th></th>\n",
       "      <th>spc_common</th>\n",
       "      <th>id</th>\n",
       "      <th>tree_dbh</th>\n",
       "      <th>cluster</th>\n",
       "      <th>Latitude_x</th>\n",
       "      <th>longitude_x</th>\n",
       "    </tr>\n",
       "  </thead>\n",
       "  <tbody>\n",
       "    <tr>\n",
       "      <th>0</th>\n",
       "      <td>red maple</td>\n",
       "      <td>44</td>\n",
       "      <td>3</td>\n",
       "      <td>-1</td>\n",
       "      <td>40.723092</td>\n",
       "      <td>-73.844215</td>\n",
       "    </tr>\n",
       "    <tr>\n",
       "      <th>1</th>\n",
       "      <td>pin oak</td>\n",
       "      <td>45</td>\n",
       "      <td>21</td>\n",
       "      <td>-1</td>\n",
       "      <td>40.794111</td>\n",
       "      <td>-73.818679</td>\n",
       "    </tr>\n",
       "    <tr>\n",
       "      <th>2</th>\n",
       "      <td>honeylocust</td>\n",
       "      <td>11</td>\n",
       "      <td>3</td>\n",
       "      <td>-1</td>\n",
       "      <td>40.717581</td>\n",
       "      <td>-73.936608</td>\n",
       "    </tr>\n",
       "    <tr>\n",
       "      <th>3</th>\n",
       "      <td>honeylocust</td>\n",
       "      <td>11</td>\n",
       "      <td>10</td>\n",
       "      <td>-1</td>\n",
       "      <td>40.713537</td>\n",
       "      <td>-73.934456</td>\n",
       "    </tr>\n",
       "    <tr>\n",
       "      <th>4</th>\n",
       "      <td>American linden</td>\n",
       "      <td>16</td>\n",
       "      <td>21</td>\n",
       "      <td>3</td>\n",
       "      <td>40.666778</td>\n",
       "      <td>-73.975979</td>\n",
       "    </tr>\n",
       "    <tr>\n",
       "      <th>...</th>\n",
       "      <td>...</td>\n",
       "      <td>...</td>\n",
       "      <td>...</td>\n",
       "      <td>...</td>\n",
       "      <td>...</td>\n",
       "      <td>...</td>\n",
       "    </tr>\n",
       "    <tr>\n",
       "      <th>683782</th>\n",
       "      <td>pin oak</td>\n",
       "      <td>4</td>\n",
       "      <td>3</td>\n",
       "      <td>-1</td>\n",
       "      <td>40.854570</td>\n",
       "      <td>-73.899192</td>\n",
       "    </tr>\n",
       "    <tr>\n",
       "      <th>683783</th>\n",
       "      <td>pin oak</td>\n",
       "      <td>11</td>\n",
       "      <td>25</td>\n",
       "      <td>-1</td>\n",
       "      <td>40.713211</td>\n",
       "      <td>-73.954944</td>\n",
       "    </tr>\n",
       "    <tr>\n",
       "      <th>683785</th>\n",
       "      <td>red maple</td>\n",
       "      <td>53</td>\n",
       "      <td>12</td>\n",
       "      <td>4</td>\n",
       "      <td>40.620762</td>\n",
       "      <td>-74.136517</td>\n",
       "    </tr>\n",
       "    <tr>\n",
       "      <th>683786</th>\n",
       "      <td>red maple</td>\n",
       "      <td>4</td>\n",
       "      <td>9</td>\n",
       "      <td>-1</td>\n",
       "      <td>40.850828</td>\n",
       "      <td>-73.903115</td>\n",
       "    </tr>\n",
       "    <tr>\n",
       "      <th>683787</th>\n",
       "      <td>red maple</td>\n",
       "      <td>46</td>\n",
       "      <td>23</td>\n",
       "      <td>-1</td>\n",
       "      <td>40.732165</td>\n",
       "      <td>-73.787526</td>\n",
       "    </tr>\n",
       "  </tbody>\n",
       "</table>\n",
       "<p>534472 rows × 6 columns</p>\n",
       "</div>"
      ],
      "text/plain": [
       "             spc_common  id  tree_dbh  cluster  Latitude_x  longitude_x\n",
       "0             red maple  44         3       -1   40.723092   -73.844215\n",
       "1               pin oak  45        21       -1   40.794111   -73.818679\n",
       "2           honeylocust  11         3       -1   40.717581   -73.936608\n",
       "3           honeylocust  11        10       -1   40.713537   -73.934456\n",
       "4       American linden  16        21        3   40.666778   -73.975979\n",
       "...                 ...  ..       ...      ...         ...          ...\n",
       "683782          pin oak   4         3       -1   40.854570   -73.899192\n",
       "683783          pin oak  11        25       -1   40.713211   -73.954944\n",
       "683785        red maple  53        12        4   40.620762   -74.136517\n",
       "683786        red maple   4         9       -1   40.850828   -73.903115\n",
       "683787        red maple  46        23       -1   40.732165   -73.787526\n",
       "\n",
       "[534472 rows x 6 columns]"
      ]
     },
     "execution_count": 34,
     "metadata": {},
     "output_type": "execute_result"
    }
   ],
   "source": [
    "df_trees_final.to_csv('trees_final.csv', sep=',')"
   ]
  },
  {
   "cell_type": "code",
   "execution_count": null,
   "metadata": {},
   "outputs": [],
   "source": []
  },
  {
   "cell_type": "code",
   "execution_count": null,
   "metadata": {},
   "outputs": [],
   "source": []
  }
 ],
 "metadata": {
  "kernelspec": {
   "display_name": "Python 3.9.13 64-bit",
   "language": "python",
   "name": "python3"
  },
  "language_info": {
   "codemirror_mode": {
    "name": "ipython",
    "version": 3
   },
   "file_extension": ".py",
   "mimetype": "text/x-python",
   "name": "python",
   "nbconvert_exporter": "python",
   "pygments_lexer": "ipython3",
   "version": "3.9.13"
  },
  "orig_nbformat": 4,
  "vscode": {
   "interpreter": {
    "hash": "11938c6bc6919ae2720b4d5011047913343b08a43b18698fd82dedb0d4417594"
   }
  }
 },
 "nbformat": 4,
 "nbformat_minor": 2
}
